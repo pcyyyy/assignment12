{
 "cells": [
  {
   "cell_type": "markdown",
   "metadata": {},
   "source": [
    "# This is assignment12"
   ]
  },
  {
   "cell_type": "markdown",
   "metadata": {},
   "source": [
    "# Name:PENG CIYUAN "
   ]
  },
  {
   "cell_type": "markdown",
   "metadata": {},
   "source": [
    "#  Student ID:2018220161"
   ]
  },
  {
   "cell_type": "markdown",
   "metadata": {},
   "source": [
    "# Link:https://github.com/pcyyyy/assignment12.git"
   ]
  },
  {
   "cell_type": "code",
   "execution_count": 2,
   "metadata": {},
   "outputs": [
    {
     "data": {
      "text/plain": [
       "<Figure size 640x480 with 1 Axes>"
      ]
     },
     "metadata": {},
     "output_type": "display_data"
    }
   ],
   "source": [
    "import numpy as np\n",
    "import matplotlib.pyplot as plt\n",
    "\n",
    "num     = 1001\n",
    "std     = 5 \n",
    "\n",
    "# x  : x-coordinate data\n",
    "# y1 : (clean) y-coordinate data \n",
    "# y2 : (noisy) y-coordinate data\n",
    "\n",
    "def fun(x):\n",
    " \n",
    "\t# f = np.sin(x) * (1 / (1 + np.exp(-x))) \n",
    "\tf = np.abs(x) * np.sin(x)\n",
    "\n",
    "\treturn f\n",
    "\n",
    "n       = np.random.rand(num)\n",
    "nn      = n - np.mean(n)\n",
    "x       = np.linspace(-10,10,num)\n",
    "y1      = fun(x) \t\t\t# clean points\n",
    "y2      = y1 + nn * std\t\t# noisy points\n",
    "\n",
    "plt.plot(x, y1, 'b.', x, y2, 'k.')\n",
    "plt.show()\n"
   ]
  },
  {
   "cell_type": "markdown",
   "metadata": {},
   "source": [
    "# Defining leastquare approximation function"
   ]
  },
  {
   "cell_type": "code",
   "execution_count": 3,
   "metadata": {},
   "outputs": [],
   "source": [
    "def leastsquare(X,Y):\n",
    "    xTx=np.dot(X.T,X)\n",
    "    x=np.dot(np.linalg.inv(xTx),X.T)\n",
    "    R=np.dot(x,Y)\n",
    "    return(R)"
   ]
  },
  {
   "cell_type": "markdown",
   "metadata": {},
   "source": [
    "# Defining lambda"
   ]
  },
  {
   "cell_type": "code",
   "execution_count": 4,
   "metadata": {},
   "outputs": [],
   "source": [
    "lambda1 = 2**(-3)\n",
    "lambda2 = 2**(0)\n",
    "lambda3 = 2**(3)"
   ]
  },
  {
   "cell_type": "markdown",
   "metadata": {},
   "source": [
    "# Defining the polynomial function"
   ]
  },
  {
   "cell_type": "code",
   "execution_count": 5,
   "metadata": {},
   "outputs": [],
   "source": [
    "def poly(x,p,r):\n",
    "    X=[]\n",
    "    for i in range(len(x)):\n",
    "        xi = []\n",
    "        for j in range(p):\n",
    "            xi.append(x[i]**j)\n",
    "        X.append(xi)\n",
    "    lam = []\n",
    "    for i in range(p):\n",
    "        lam.append(r)\n",
    "    X = np.mat(X)\n",
    "    lam = np.mat(lam)\n",
    "    return X,lam"
   ]
  },
  {
   "cell_type": "markdown",
   "metadata": {},
   "source": [
    "# Defining combined matrix"
   ]
  },
  {
   "cell_type": "code",
   "execution_count": 8,
   "metadata": {},
   "outputs": [],
   "source": [
    "def matrix(X,lam):\n",
    "    A = np.vstack((X,lam))\n",
    "    A.reshape(-1,1)\n",
    "    return A\n",
    "y2 = np.concatenate((y2,[0])).reshape(-1,1)"
   ]
  },
  {
   "cell_type": "code",
   "execution_count": 10,
   "metadata": {},
   "outputs": [],
   "source": [
    "X1,lam1 = poly(x,6,lambda1)\n",
    "X2,lam2 = poly(x,10,lambda2)\n",
    "X3,lam3 = poly(x,15,lambda3)\n",
    "A1 = matrix(X1,lam1)\n",
    "A2 = matrix(X2,lam2)\n",
    "A3 = matrix(X3,lam3)\n",
    "\n",
    "Q1 = leastsquare(A1,y2)\n",
    "Q2 = leastsquare(A2,y2)\n",
    "Q3 = leastsquare(A3,y2)\n",
    "\n",
    "Y1 = X1.dot(Q1)\n",
    "Y2 = X2.dot(Q2)\n",
    "Y3 = X3.dot(Q3)\n",
    "\n",
    "X11,lam2 = poly(x,6,lambda2)\n",
    "X22,lam22 = poly(x,10,lambda2)\n",
    "X33,lam33 = poly(x,15,lambda2)\n",
    "A11 = matrix(X11,lam2)\n",
    "A22 = matrix(X22,lam22)\n",
    "A33 = matrix(X33,lam33)\n",
    "Q11 = leastsquare(A11,y2)\n",
    "Q22 = leastsquare(A22,y2)\n",
    "Q33 = leastsquare(A33,y2)\n",
    "\n",
    "Y11 = X1.dot(Q11)\n",
    "Y22 = X2.dot(Q22)\n",
    "Y33 = X3.dot(Q33)"
   ]
  },
  {
   "cell_type": "markdown",
   "metadata": {},
   "source": [
    "# Ploting the polynomial curves with varying p"
   ]
  },
  {
   "cell_type": "code",
   "execution_count": 12,
   "metadata": {},
   "outputs": [
    {
     "data": {
      "image/png": "[encoded data removed]",
      "text/plain": [
       "<Figure size 432x288 with 1 Axes>"
      ]
     },
     "metadata": {},
     "output_type": "display_data"
    },
    {
     "data": {
      "image/png": "[encoded data removed]",
      "text/plain": [
       "<Figure size 432x288 with 1 Axes>"
      ]
     },
     "metadata": {},
     "output_type": "display_data"
    },
    {
     "data": {
      "image/png": "[encoded data removed]",
      "text/plain": [
       "<Figure size 432x288 with 1 Axes>"
      ]
     },
     "metadata": {},
     "output_type": "display_data"
    }
   ],
   "source": [
    "p1 = plt.subplot(2,2,1)\n",
    "p1.set_title(\"lambda=2^0,p=6\")\n",
    "plt.plot(X11,Y11,'b')\n",
    "plt.show()\n",
    "\n",
    "p2 = plt.subplot(2,2,2)\n",
    "p2.set_title(\"lambda=2^0,p=10\")\n",
    "plt.plot(X22,Y22,'b')\n",
    "plt.show()\n",
    "\n",
    "p3 = plt.subplot(2,2,3)\n",
    "p3.set_title(\"lambda=2^0,p=15\")\n",
    "plt.plot(X33,Y33,'b')\n",
    "plt.show()"
   ]
  },
  {
   "cell_type": "markdown",
   "metadata": {},
   "source": [
    "# Ploting the polynomial curves with varying lambda"
   ]
  },
  {
   "cell_type": "code",
   "execution_count": 13,
   "metadata": {},
   "outputs": [
    {
     "data": {
      "image/png": "[encoded data removed]",
      "text/plain": [
       "<Figure size 432x288 with 1 Axes>"
      ]
     },
     "metadata": {},
     "output_type": "display_data"
    },
    {
     "data": {
      "image/png": "[encoded data removed]",
      "text/plain": [
       "<Figure size 432x288 with 1 Axes>"
      ]
     },
     "metadata": {},
     "output_type": "display_data"
    },
    {
     "data": {
      "image/png": "[encoded data removed]",
      "text/plain": [
       "<Figure size 432x288 with 1 Axes>"
      ]
     },
     "metadata": {},
     "output_type": "display_data"
    }
   ],
   "source": [
    "p1 = plt.subplot(2,2,1)\n",
    "p1.set_title(\"lambda=2^-3,p=6\")\n",
    "plt.plot(X1,Y1,'b')\n",
    "plt.show()\n",
    "\n",
    "p2 = plt.subplot(2,2,2)\n",
    "p2.set_title(\"lambda=2^0,p=10\")\n",
    "plt.plot(X2,Y2,'b')\n",
    "plt.show()\n",
    "\n",
    "p3 = plt.subplot(2,2,3)\n",
    "p3.set_title(\"lambda=2^3,p=15\")\n",
    "plt.plot(X3,Y3,'b')\n",
    "plt.show()"
   ]
  },
  {
   "cell_type": "markdown",
   "metadata": {},
   "source": [
    "#  the energy "
   ]
  },
  {
   "cell_type": "code",
   "execution_count": 18,
   "metadata": {},
   "outputs": [
    {
     "name": "stdout",
     "output_type": "stream",
     "text": [
      "[[-2.00077343]\n",
      " [-0.86248116]\n",
      " [-4.57298737]\n",
      " ...\n",
      " [ 4.53917992]\n",
      " [ 2.60690328]\n",
      " [-0.1810909 ]]\n",
      "[[ 0.33684803]\n",
      " [ 1.55755193]\n",
      " [-2.08232248]\n",
      " ...\n",
      " [ 2.49638632]\n",
      " [ 0.66438368]\n",
      " [ 1.58683413]]\n",
      "[[ 0.65303909]\n",
      " [ 1.78067258]\n",
      " [-1.94166705]\n",
      " ...\n",
      " [ 1.32188738]\n",
      " [-0.83060236]\n",
      " [ 5.1673697 ]]\n"
     ]
    }
   ],
   "source": [
    "e1 = (A1.dot(Q1))-y2\n",
    "e2 = (A2.dot(Q2))-y2\n",
    "e3 = (A3.dot(Q3))-y2\n",
    "print(e1)\n",
    "print(e2)\n",
    "print(e3)\n"
   ]
  }
 ],
 "metadata": {
  "kernelspec": {
   "display_name": "Python 3",
   "language": "python",
   "name": "python3"
  },
  "language_info": {
   "codemirror_mode": {
    "name": "ipython",
    "version": 3
   },
   "file_extension": ".py",
   "mimetype": "text/x-python",
   "name": "python",
   "nbconvert_exporter": "python",
   "pygments_lexer": "ipython3",
   "version": "3.6.5"
  }
 },
 "nbformat": 4,
 "nbformat_minor": 2
}
